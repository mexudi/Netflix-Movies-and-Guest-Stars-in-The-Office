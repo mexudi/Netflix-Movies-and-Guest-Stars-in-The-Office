{
 "cells": [
  {
   "attachments": {},
   "cell_type": "markdown",
   "id": "8f453e6d",
   "metadata": {},
   "source": [
    "# 1. Loading your friend's data into a dictionary\n",
    "Netflix! What started in 1997 as a DVD rental service has since exploded into the largest entertainment/media company by market capitalization, boasting over 200 million subscribers as of January 2021.\n",
    "\n",
    "Given the large number of movies and series available on the platform, it is a perfect opportunity to flex our data manipulation skills and dive into the entertainment industry. Our friend has also been brushing up on their Python skills and has taken a first crack at a CSV file containing Netflix data. For their first order of business, they have been performing some analyses, and they believe that the average duration of movies has been declining.\n",
    "\n",
    "As evidence of this, they have provided us with the following information. For the years from 2011 to 2020, the average movie durations are 103, 101, 99, 100, 100, 95, 95, 96, 93, and 90, respectively.\n",
    "\n",
    "If we're going to be working with this data, we know a good place to start would be to probably start working with pandas. But first we'll need to create a DataFrame from scratch. Let's start by creating a Python object covered in Intermediate Python: a dictionary!"
   ]
  },
  {
   "cell_type": "code",
   "execution_count": 1,
   "id": "ccbb2e5f",
   "metadata": {},
   "outputs": [
    {
     "data": {
      "text/plain": [
       "{2011: 103,\n",
       " 2012: 101,\n",
       " 2013: 99,\n",
       " 2014: 100,\n",
       " 2015: 100,\n",
       " 2016: 95,\n",
       " 2017: 95,\n",
       " 2018: 96,\n",
       " 2019: 93,\n",
       " 2020: 90}"
      ]
     },
     "execution_count": 1,
     "metadata": {},
     "output_type": "execute_result"
    }
   ],
   "source": [
    "# Create the years and durations lists\n",
    "years = [year for year in range(2011,2021)]\n",
    "durations = [103,101,99,100,100,95,95,96,93,90]\n",
    "\n",
    "# Create a dictionary with the two lists\n",
    "movie_dict = {}\n",
    "list_dict = [*zip(years,durations)]\n",
    "for key, val in list_dict:\n",
    "    movie_dict[key] = val\n",
    "\n",
    "# Print the dictionary\n",
    "movie_dict"
   ]
  },
  {
   "cell_type": "code",
   "execution_count": null,
   "id": "51717c77",
   "metadata": {},
   "outputs": [],
   "source": []
  }
 ],
 "metadata": {
  "kernelspec": {
   "display_name": "Python 3 (ipykernel)",
   "language": "python",
   "name": "python3"
  },
  "language_info": {
   "codemirror_mode": {
    "name": "ipython",
    "version": 3
   },
   "file_extension": ".py",
   "mimetype": "text/x-python",
   "name": "python",
   "nbconvert_exporter": "python",
   "pygments_lexer": "ipython3",
   "version": "3.10.0"
  }
 },
 "nbformat": 4,
 "nbformat_minor": 5
}
