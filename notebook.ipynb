{
 "cells": [
  {
   "attachments": {},
   "cell_type": "markdown",
   "id": "26b13919",
   "metadata": {},
   "source": [
    "# 1. Loading your friend's data into a dictionary\n",
    "Netflix! What started in 1997 as a DVD rental service has since exploded into the largest entertainment/media company by market capitalization, boasting over 200 million subscribers as of January 2021.\n",
    "\n",
    "Given the large number of movies and series available on the platform, it is a perfect opportunity to flex our data manipulation skills and dive into the entertainment industry. Our friend has also been brushing up on their Python skills and has taken a first crack at a CSV file containing Netflix data. For their first order of business, they have been performing some analyses, and they believe that the average duration of movies has been declining.\n",
    "\n",
    "As evidence of this, they have provided us with the following information. For the years from 2011 to 2020, the average movie durations are 103, 101, 99, 100, 100, 95, 95, 96, 93, and 90, respectively.\n",
    "\n",
    "If we're going to be working with this data, we know a good place to start would be to probably start working with pandas. But first we'll need to create a DataFrame from scratch. Let's start by creating a Python object covered in Intermediate Python: a dictionary!"
   ]
  },
  {
   "cell_type": "code",
   "execution_count": 4,
   "id": "ae975c52",
   "metadata": {},
   "outputs": [
    {
     "data": {
      "text/plain": [
       "{'years': [2011, 2012, 2013, 2014, 2015, 2016, 2017, 2018, 2019, 2020],\n",
       " 'durations': [103, 101, 99, 100, 100, 95, 95, 96, 93, 90]}"
      ]
     },
     "execution_count": 4,
     "metadata": {},
     "output_type": "execute_result"
    }
   ],
   "source": [
    "# Create the years and durations lists\n",
    "years = [year for year in range(2011,2021)]\n",
    "durations = [103,101,99,100,100,95,95,96,93,90]\n",
    "\n",
    "# Create a dictionary with the two lists\n",
    "movie_dict = {'years':years, 'durations':durations}\n",
    "\n",
    "# Print the dictionary\n",
    "movie_dict\n"
   ]
  },
  {
   "cell_type": "code",
   "execution_count": 3,
   "id": "4fb17f2b",
   "metadata": {},
   "outputs": [
    {
     "data": {
      "text/plain": [
       "dict_keys([2011, 2012, 2013, 2014, 2015, 2016, 2017, 2018, 2019, 2020])"
      ]
     },
     "execution_count": 3,
     "metadata": {},
     "output_type": "execute_result"
    }
   ],
   "source": []
  },
  {
   "cell_type": "code",
   "execution_count": null,
   "id": "f8033760",
   "metadata": {},
   "outputs": [],
   "source": []
  }
 ],
 "metadata": {
  "kernelspec": {
   "display_name": "Python 3 (ipykernel)",
   "language": "python",
   "name": "python3"
  },
  "language_info": {
   "codemirror_mode": {
    "name": "ipython",
    "version": 3
   },
   "file_extension": ".py",
   "mimetype": "text/x-python",
   "name": "python",
   "nbconvert_exporter": "python",
   "pygments_lexer": "ipython3",
   "version": "3.10.0"
  }
 },
 "nbformat": 4,
 "nbformat_minor": 5
}
